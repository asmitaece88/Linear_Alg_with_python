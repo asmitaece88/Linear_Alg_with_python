{
 "cells": [
  {
   "cell_type": "code",
   "execution_count": 1,
   "metadata": {},
   "outputs": [],
   "source": [
    "# https://learn.percipio.com/courses/ae8c1ab0-2f99-11e9-9f0a-4d6965a87299/videos/bf8c8570-2f99-11e9-9f0a-4d6965a87299"
   ]
  },
  {
   "cell_type": "markdown",
   "metadata": {},
   "source": [
    "#  working with vectors "
   ]
  },
  {
   "cell_type": "code",
   "execution_count": 1,
   "metadata": {},
   "outputs": [],
   "source": [
    "import numpy as np "
   ]
  },
  {
   "cell_type": "code",
   "execution_count": 2,
   "metadata": {},
   "outputs": [],
   "source": [
    "## now just to create a vector "
   ]
  },
  {
   "cell_type": "code",
   "execution_count": 3,
   "metadata": {},
   "outputs": [],
   "source": [
    "v1=np.array([1,2,3,4,5,6,7,8,9,90])"
   ]
  },
  {
   "cell_type": "code",
   "execution_count": 4,
   "metadata": {},
   "outputs": [],
   "source": [
    "v2=np.array([3,45,67,89,100,56])"
   ]
  },
  {
   "cell_type": "code",
   "execution_count": 5,
   "metadata": {},
   "outputs": [
    {
     "name": "stdout",
     "output_type": "stream",
     "text": [
      "[ 1  2  3  4  5  6  7  8  9 90]\n"
     ]
    }
   ],
   "source": [
    "print(v1)"
   ]
  },
  {
   "cell_type": "code",
   "execution_count": 6,
   "metadata": {},
   "outputs": [
    {
     "name": "stdout",
     "output_type": "stream",
     "text": [
      "<class 'numpy.ndarray'>\n"
     ]
    }
   ],
   "source": [
    "print(type(v2))"
   ]
  },
  {
   "cell_type": "code",
   "execution_count": 7,
   "metadata": {},
   "outputs": [],
   "source": [
    "v3= 2*v1"
   ]
  },
  {
   "cell_type": "code",
   "execution_count": 8,
   "metadata": {},
   "outputs": [
    {
     "data": {
      "text/plain": [
       "array([  2,   4,   6,   8,  10,  12,  14,  16,  18, 180])"
      ]
     },
     "execution_count": 8,
     "metadata": {},
     "output_type": "execute_result"
    }
   ],
   "source": [
    "v3"
   ]
  },
  {
   "cell_type": "code",
   "execution_count": 9,
   "metadata": {},
   "outputs": [],
   "source": [
    "v4= v1+v3## we can only add similar matrices "
   ]
  },
  {
   "cell_type": "code",
   "execution_count": 10,
   "metadata": {},
   "outputs": [
    {
     "data": {
      "text/plain": [
       "array([  3,   6,   9,  12,  15,  18,  21,  24,  27, 270])"
      ]
     },
     "execution_count": 10,
     "metadata": {},
     "output_type": "execute_result"
    }
   ],
   "source": [
    "v4"
   ]
  },
  {
   "cell_type": "markdown",
   "metadata": {},
   "source": [
    "# basis and projection  of vectors "
   ]
  },
  {
   "cell_type": "code",
   "execution_count": 29,
   "metadata": {},
   "outputs": [],
   "source": [
    "import numpy as np \n",
    "import numpy.linalg as la \n",
    "import matplotlib.pyplot as plt "
   ]
  },
  {
   "cell_type": "code",
   "execution_count": 30,
   "metadata": {},
   "outputs": [],
   "source": [
    "# unit base vectors \n",
    "\n",
    "ihat=np.array([1,0])\n",
    "jhat=np.array([0,1])\n",
    "\n",
    "\n",
    "## the vector v \n",
    "\n",
    "v=np.array([2,2])\n",
    "\n",
    "## now we define a scalar  s , such that multiplied by the magnitude of the vector v = 1\n",
    "## we do this operation  just to create  a unit vector in the same direction as the vector v \n",
    "\n",
    "#note that the magnitude of the vector v is  ~2.82843 or (2 * (root 2))\n",
    "\n",
    "len = la.norm (v)\n"
   ]
  },
  {
   "cell_type": "code",
   "execution_count": 31,
   "metadata": {},
   "outputs": [
    {
     "data": {
      "text/plain": [
       "2.8284271247461903"
      ]
     },
     "execution_count": 31,
     "metadata": {},
     "output_type": "execute_result"
    }
   ],
   "source": [
    "len"
   ]
  },
  {
   "cell_type": "code",
   "execution_count": 32,
   "metadata": {},
   "outputs": [
    {
     "data": {
      "text/plain": [
       "array([2, 2])"
      ]
     },
     "execution_count": 32,
     "metadata": {},
     "output_type": "execute_result"
    }
   ],
   "source": [
    "v"
   ]
  },
  {
   "cell_type": "code",
   "execution_count": 33,
   "metadata": {},
   "outputs": [
    {
     "name": "stdout",
     "output_type": "stream",
     "text": [
      "[2 2]\n",
      "[1 0]\n",
      "[0 1]\n"
     ]
    },
    {
     "data": {
      "text/plain": [
       "(None, None, None)"
      ]
     },
     "execution_count": 33,
     "metadata": {},
     "output_type": "execute_result"
    }
   ],
   "source": [
    "print(v) , print(ihat) , print(jhat)"
   ]
  },
  {
   "cell_type": "code",
   "execution_count": 34,
   "metadata": {},
   "outputs": [],
   "source": [
    "s=1/la.norm(v)"
   ]
  },
  {
   "cell_type": "code",
   "execution_count": 35,
   "metadata": {},
   "outputs": [
    {
     "data": {
      "text/plain": [
       "0.35355339059327373"
      ]
     },
     "execution_count": 35,
     "metadata": {},
     "output_type": "execute_result"
    }
   ],
   "source": [
    "s"
   ]
  },
  {
   "cell_type": "code",
   "execution_count": 36,
   "metadata": {},
   "outputs": [],
   "source": [
    "check= s * la.norm(v)"
   ]
  },
  {
   "cell_type": "code",
   "execution_count": 37,
   "metadata": {},
   "outputs": [
    {
     "data": {
      "text/plain": [
       "1.0"
      ]
     },
     "execution_count": 37,
     "metadata": {},
     "output_type": "execute_result"
    }
   ],
   "source": [
    "check"
   ]
  },
  {
   "cell_type": "code",
   "execution_count": 38,
   "metadata": {},
   "outputs": [],
   "source": [
    "vunit= v * s "
   ]
  },
  {
   "cell_type": "code",
   "execution_count": 39,
   "metadata": {},
   "outputs": [
    {
     "data": {
      "text/plain": [
       "array([0.70710678, 0.70710678])"
      ]
     },
     "execution_count": 39,
     "metadata": {},
     "output_type": "execute_result"
    }
   ],
   "source": [
    "vunit"
   ]
  },
  {
   "cell_type": "code",
   "execution_count": 40,
   "metadata": {},
   "outputs": [],
   "source": [
    "##dot product of vunit with unit basis vector ihat \n",
    "##this dot product is +ve when both vectors are facing the same direction \n",
    "## not using np.dot as numpy docs recommend '@' when the operators are vectors \n",
    "\n",
    "\n",
    "\n",
    "dp=vunit @ ihat"
   ]
  },
  {
   "cell_type": "code",
   "execution_count": 41,
   "metadata": {},
   "outputs": [
    {
     "name": "stdout",
     "output_type": "stream",
     "text": [
      "[0.70710678 0.70710678]\n",
      "[1 0]\n"
     ]
    },
    {
     "data": {
      "text/plain": [
       "(None, None)"
      ]
     },
     "execution_count": 41,
     "metadata": {},
     "output_type": "execute_result"
    }
   ],
   "source": [
    "print(vunit),print(ihat)"
   ]
  },
  {
   "cell_type": "code",
   "execution_count": 42,
   "metadata": {},
   "outputs": [
    {
     "data": {
      "text/plain": [
       "0.7071067811865475"
      ]
     },
     "execution_count": 42,
     "metadata": {},
     "output_type": "execute_result"
    }
   ],
   "source": [
    "dp"
   ]
  },
  {
   "cell_type": "code",
   "execution_count": 43,
   "metadata": {},
   "outputs": [
    {
     "data": {
      "text/plain": [
       "2.8284271247461903"
      ]
     },
     "execution_count": 43,
     "metadata": {},
     "output_type": "execute_result"
    }
   ],
   "source": [
    "len"
   ]
  },
  {
   "cell_type": "code",
   "execution_count": 44,
   "metadata": {},
   "outputs": [
    {
     "data": {
      "text/plain": [
       "(0.7071067811865475, 0.7071067811865475)"
      ]
     },
     "execution_count": 44,
     "metadata": {},
     "output_type": "execute_result"
    }
   ],
   "source": [
    "vunit[0] , vunit[1]"
   ]
  },
  {
   "cell_type": "code",
   "execution_count": 46,
   "metadata": {},
   "outputs": [
    {
     "name": "stdout",
     "output_type": "stream",
     "text": [
      "confirm 1/la.norm * la.norm 1.0\n",
      "Length of vector v : 2.8284271247461903\n",
      "Vector vunit in same direction as v : [0.70710678 0.70710678]\n",
      "dot product vunit with ihat +ve when facing same direction  0.7071067811865475\n"
     ]
    },
    {
     "data": {
      "image/png": "[encoded data removed]",
      "text/plain": [
       "<Figure size 432x288 with 1 Axes>"
      ]
     },
     "metadata": {
      "needs_background": "light"
     },
     "output_type": "display_data"
    }
   ],
   "source": [
    "##configure plot values , formatting etc \n",
    "##note , the projection of vunit   on ihat , jhat is vunit @ihat , vunit @jhat\n",
    "##demonstrating that the dot product is the cosine between 2 vectors\n",
    "\n",
    "plt.plot([0,v[0]],[0,v[1]],'b',label='v',linewidth =3)\n",
    "plt.plot([0,vunit[0]],[0,vunit[1]],'r',label='vunit',linewidth=3)\n",
    "plt.plot([0,1],[0,0],'r:',label='ihat',linewidth=4)\n",
    "plt.plot([0,0],[0,1],'g:',label='jhat',linewidth=4)\n",
    "plt.plot([0,vunit[0]],[0,0],'k',label='prj on x',linewidth=2)\n",
    "plt.plot([0,0],[0,vunit[1]],'k',label='prj on y',linewidth=2)\n",
    "\n",
    "\n",
    "\n",
    "##generate the plot with axis , grid , legend\n",
    "\n",
    "print(\"confirm 1/la.norm * la.norm\",check)\n",
    "print(\"Length of vector v :\", len)\n",
    "print(\"Vector vunit in same direction as v :\",vunit)\n",
    "print(\"dot product vunit with ihat +ve when facing same direction \",dp)\n",
    "\n",
    "plt.axis(\"square\")\n",
    "plt.axis((-1,3,-1,3))\n",
    "plt.grid()\n",
    "plt.legend()\n",
    "plt.show()"
   ]
  },
  {
   "cell_type": "code",
   "execution_count": 23,
   "metadata": {},
   "outputs": [],
   "source": [
    "## create another numpy matrix "
   ]
  },
  {
   "cell_type": "code",
   "execution_count": 24,
   "metadata": {},
   "outputs": [],
   "source": [
    "A = np.array([[1,2,3],[3,4,5]])"
   ]
  },
  {
   "cell_type": "code",
   "execution_count": 25,
   "metadata": {},
   "outputs": [
    {
     "name": "stdout",
     "output_type": "stream",
     "text": [
      "[[1 2 3]\n",
      " [3 4 5]]\n"
     ]
    }
   ],
   "source": [
    "print(A)"
   ]
  },
  {
   "cell_type": "code",
   "execution_count": 26,
   "metadata": {},
   "outputs": [],
   "source": [
    "v_test1 = la.norm(A)"
   ]
  },
  {
   "cell_type": "code",
   "execution_count": 27,
   "metadata": {},
   "outputs": [
    {
     "name": "stdout",
     "output_type": "stream",
     "text": [
      "8.0\n"
     ]
    }
   ],
   "source": [
    "print(v_test1)"
   ]
  },
  {
   "cell_type": "markdown",
   "metadata": {},
   "source": [
    "# create ndimensional array"
   ]
  },
  {
   "cell_type": "code",
   "execution_count": 48,
   "metadata": {},
   "outputs": [],
   "source": [
    "list=[1,2,3,4,5]"
   ]
  },
  {
   "cell_type": "code",
   "execution_count": 49,
   "metadata": {},
   "outputs": [],
   "source": [
    "c=np.asarray(list)"
   ]
  },
  {
   "cell_type": "code",
   "execution_count": 50,
   "metadata": {},
   "outputs": [
    {
     "data": {
      "text/plain": [
       "array([1, 2, 3, 4, 5])"
      ]
     },
     "execution_count": 50,
     "metadata": {},
     "output_type": "execute_result"
    }
   ],
   "source": [
    "c"
   ]
  },
  {
   "cell_type": "markdown",
   "metadata": {},
   "source": [
    "# Create an ndarray in the size you need filled with ones, zeros or random values:"
   ]
  },
  {
   "cell_type": "code",
   "execution_count": 60,
   "metadata": {},
   "outputs": [],
   "source": [
    "c1=np.array([1,2,3,5,7,8])"
   ]
  },
  {
   "cell_type": "code",
   "execution_count": 61,
   "metadata": {},
   "outputs": [
    {
     "data": {
      "text/plain": [
       "array([1, 2, 3, 5, 7, 8])"
      ]
     },
     "execution_count": 61,
     "metadata": {},
     "output_type": "execute_result"
    }
   ],
   "source": [
    "c1"
   ]
  },
  {
   "cell_type": "code",
   "execution_count": 63,
   "metadata": {},
   "outputs": [
    {
     "data": {
      "text/plain": [
       "(6,)"
      ]
     },
     "execution_count": 63,
     "metadata": {},
     "output_type": "execute_result"
    }
   ],
   "source": [
    "c1.shape"
   ]
  },
  {
   "cell_type": "code",
   "execution_count": 57,
   "metadata": {},
   "outputs": [],
   "source": [
    "shape = (2,2)"
   ]
  },
  {
   "cell_type": "code",
   "execution_count": 58,
   "metadata": {},
   "outputs": [],
   "source": [
    "c1=np.empty(shape)"
   ]
  },
  {
   "cell_type": "code",
   "execution_count": 59,
   "metadata": {},
   "outputs": [
    {
     "data": {
      "text/plain": [
       "array([[ 92.935     ,  78.56      ],\n",
       "       [131.37332463, 116.99832463]])"
      ]
     },
     "execution_count": 59,
     "metadata": {},
     "output_type": "execute_result"
    }
   ],
   "source": [
    "c1"
   ]
  },
  {
   "cell_type": "markdown",
   "metadata": {},
   "source": [
    "# working with np.matrix "
   ]
  },
  {
   "cell_type": "code",
   "execution_count": 73,
   "metadata": {},
   "outputs": [],
   "source": [
    "A1=np.matrix([[1,2],[3,4]])"
   ]
  },
  {
   "cell_type": "code",
   "execution_count": 74,
   "metadata": {},
   "outputs": [
    {
     "name": "stdout",
     "output_type": "stream",
     "text": [
      "[[1 2]\n",
      " [3 4]]\n"
     ]
    }
   ],
   "source": [
    "print(A1)"
   ]
  },
  {
   "cell_type": "code",
   "execution_count": 75,
   "metadata": {},
   "outputs": [],
   "source": [
    "B= 5 + A1"
   ]
  },
  {
   "cell_type": "code",
   "execution_count": 76,
   "metadata": {},
   "outputs": [
    {
     "name": "stdout",
     "output_type": "stream",
     "text": [
      "[[6 7]\n",
      " [8 9]]\n"
     ]
    }
   ],
   "source": [
    "print(B)"
   ]
  },
  {
   "cell_type": "code",
   "execution_count": 77,
   "metadata": {},
   "outputs": [
    {
     "name": "stdout",
     "output_type": "stream",
     "text": [
      "(2, 2)\n"
     ]
    }
   ],
   "source": [
    "print(A1.shape)"
   ]
  },
  {
   "cell_type": "code",
   "execution_count": 78,
   "metadata": {},
   "outputs": [],
   "source": [
    "C = A1  + B"
   ]
  },
  {
   "cell_type": "code",
   "execution_count": 79,
   "metadata": {},
   "outputs": [
    {
     "name": "stdout",
     "output_type": "stream",
     "text": [
      "[[ 7  9]\n",
      " [11 13]]\n"
     ]
    }
   ],
   "source": [
    "print(C)"
   ]
  },
  {
   "cell_type": "markdown",
   "metadata": {},
   "source": [
    "# matrix multiplication"
   ]
  },
  {
   "cell_type": "code",
   "execution_count": 80,
   "metadata": {},
   "outputs": [],
   "source": [
    "A2=np.matrix([[1,2],[3,4]])"
   ]
  },
  {
   "cell_type": "code",
   "execution_count": 82,
   "metadata": {},
   "outputs": [
    {
     "name": "stdout",
     "output_type": "stream",
     "text": [
      "[[1 2]\n",
      " [3 4]]\n"
     ]
    }
   ],
   "source": [
    "print(A2)"
   ]
  },
  {
   "cell_type": "code",
   "execution_count": 84,
   "metadata": {},
   "outputs": [],
   "source": [
    "B2=np.matrix([[5,6],[7,8]])"
   ]
  },
  {
   "cell_type": "code",
   "execution_count": 85,
   "metadata": {},
   "outputs": [
    {
     "name": "stdout",
     "output_type": "stream",
     "text": [
      "[[5 6]\n",
      " [7 8]]\n"
     ]
    }
   ],
   "source": [
    "print(B2)"
   ]
  },
  {
   "cell_type": "code",
   "execution_count": 86,
   "metadata": {},
   "outputs": [],
   "source": [
    "C2=A2 * B2"
   ]
  },
  {
   "cell_type": "code",
   "execution_count": 88,
   "metadata": {},
   "outputs": [
    {
     "name": "stdout",
     "output_type": "stream",
     "text": [
      "[[19 22]\n",
      " [43 50]]\n"
     ]
    }
   ],
   "source": [
    "print(C2)"
   ]
  },
  {
   "cell_type": "markdown",
   "metadata": {},
   "source": [
    "# matrix division"
   ]
  },
  {
   "cell_type": "code",
   "execution_count": 1,
   "metadata": {},
   "outputs": [],
   "source": [
    "import numpy as np\n",
    "import numpy.linalg as la"
   ]
  },
  {
   "cell_type": "code",
   "execution_count": 2,
   "metadata": {},
   "outputs": [],
   "source": [
    "# requirements of matrix division\n",
    "## divisor matrix is square\n",
    "# determinant of divisor matrix must be non zero\n"
   ]
  },
  {
   "cell_type": "code",
   "execution_count": 3,
   "metadata": {},
   "outputs": [],
   "source": [
    "A3=np.matrix([[1,2],[3,4]])\n",
    "B3=np.matrix([[5,6],[7,8]])"
   ]
  },
  {
   "cell_type": "code",
   "execution_count": 4,
   "metadata": {},
   "outputs": [],
   "source": [
    "b3_det = la.det(B3)"
   ]
  },
  {
   "cell_type": "code",
   "execution_count": 5,
   "metadata": {},
   "outputs": [
    {
     "name": "stdout",
     "output_type": "stream",
     "text": [
      "-1.999999999999999\n"
     ]
    }
   ],
   "source": [
    "print(b3_det)"
   ]
  },
  {
   "cell_type": "code",
   "execution_count": 6,
   "metadata": {},
   "outputs": [
    {
     "name": "stdout",
     "output_type": "stream",
     "text": [
      "-2.0\n"
     ]
    }
   ],
   "source": [
    "print(round(b3_det))"
   ]
  },
  {
   "cell_type": "markdown",
   "metadata": {},
   "source": [
    "# find the inverse of the matrix "
   ]
  },
  {
   "cell_type": "code",
   "execution_count": 8,
   "metadata": {},
   "outputs": [],
   "source": [
    "B3_inv = la.inv(B3)"
   ]
  },
  {
   "cell_type": "code",
   "execution_count": 10,
   "metadata": {},
   "outputs": [
    {
     "name": "stdout",
     "output_type": "stream",
     "text": [
      "[[-4.   3. ]\n",
      " [ 3.5 -2.5]]\n"
     ]
    }
   ],
   "source": [
    "print(B3_inv)"
   ]
  },
  {
   "cell_type": "code",
   "execution_count": null,
   "metadata": {},
   "outputs": [],
   "source": [
    "# for confrimation of inversion , B3 @ B3_invs"
   ]
  },
  {
   "cell_type": "code",
   "execution_count": 11,
   "metadata": {},
   "outputs": [],
   "source": [
    "dp_check = B3@B3_inv"
   ]
  },
  {
   "cell_type": "code",
   "execution_count": 12,
   "metadata": {},
   "outputs": [
    {
     "name": "stdout",
     "output_type": "stream",
     "text": [
      "[[1. 0.]\n",
      " [0. 1.]]\n"
     ]
    }
   ],
   "source": [
    "print(dp_check)"
   ]
  },
  {
   "cell_type": "markdown",
   "metadata": {},
   "source": [
    "# Gaussian elimination "
   ]
  },
  {
   "cell_type": "code",
   "execution_count": 17,
   "metadata": {},
   "outputs": [],
   "source": [
    "## GE is a method of soving linear equations\n",
    "\n",
    "# the gaus eli function , requests one arguement , a matrix , \n",
    "# that describes the system of equations which we are trying to\n",
    "##solve \n",
    "\n",
    "## 2x +1 y -3z= 5\n",
    "##2x -4y +3z =1\n",
    "# 4x-7y +1z =-1\n",
    "\n",
    "def gauss_elim(S):\n",
    "    print(\"\\n Original System of equations:\")\n",
    "    \n",
    "    for row in range(0,len(S)):\n",
    "        print(\"Printing row \",row)\n",
    "        print(S[row])\n",
    "    #  here , we are eliminating the columns , using row 1 as reference \n",
    "    ## so that we can eventually  have the system of equations\n",
    "    ## in upper Echelon form \n",
    "    \n",
    "    print(\"len(S)\",len(S))\n",
    "    for col in range(len(S[0])):\n",
    "        print(\"printing col in outer for \",col)\n",
    "        for row in range(col+1, len(S)):\n",
    "            print(\"printing row in inner for \",row)\n",
    "            print(\"printing S[row][col] \",S[row][col])\n",
    "            \n",
    "            print(\"printing S[col][col] \",S[col][col])\n",
    "            \n",
    "            check_value = (S[row][col]/S[col][col])\n",
    "            print(\"check_value\",check_value)\n",
    "            \n",
    "            print(type(S[col]))\n",
    "            \n",
    "            print(\"S[col] here \",S[col])\n",
    "            \n",
    "            r = [(x * (-check_value)) for x in S[col]\n",
    "                  ]\n",
    "            print(\"printing r value \",r)\n",
    "            \n",
    "            print(\"S[row] before :\",S[row])\n",
    "            \n",
    "            print(\"zip(S[row],r)\",zip(S[row],r))\n",
    "            \n",
    "            S[row]=[round((sum(pair)),2) for pair in zip(S[row],r)]\n",
    "            \n",
    "            print(\"S[row] here :\",S[row])\n",
    "            \n",
    "   ### now we can solve  by substutution \n",
    "\n",
    "    for row in range(0 , len(S)):\n",
    "        print(\"*******\")\n",
    "        print(S[row])\n",
    "        \n",
    "    A=[]\n",
    "    \n",
    "    S.reverse()\n",
    "    \n",
    "    for res in range(len(S)):\n",
    "        if res ==0:\n",
    "            A.append(round(S[res][-1]/S[res][-2]))\n",
    "        else:\n",
    "            inner =0\n",
    "            \n",
    "            ##now we substutude for all known coeeficients \n",
    "            for x in range(res):\n",
    "                inner += (A[x]*S[res][-2-x])\n",
    "            A.append(round((S[res][-1]-inner)/S[res][-res-2]))   \n",
    "            \n",
    "    A.reverse()\n",
    "    \n",
    "    return A"
   ]
  },
  {
   "cell_type": "code",
   "execution_count": 18,
   "metadata": {},
   "outputs": [
    {
     "name": "stdout",
     "output_type": "stream",
     "text": [
      "We want upper echelon form: \n",
      "a b c =d\n",
      "0 e f =g\n",
      "0 0 h = i\n",
      "printing the source matrix \n",
      "[[2, 1, -3, 5], [2, -4, 3, 1], [4, -7, 1, -1]]\n",
      "\n",
      " Original System of equations:\n",
      "Printing row  0\n",
      "[2, 1, -3, 5]\n",
      "Printing row  1\n",
      "[2, -4, 3, 1]\n",
      "Printing row  2\n",
      "[4, -7, 1, -1]\n",
      "len(S) 3\n",
      "printing col in outer for  0\n",
      "printing row in inner for  1\n",
      "printing S[row][col]  2\n",
      "printing S[col][col]  2\n",
      "check_value 1.0\n",
      "<class 'list'>\n",
      "S[col] here  [2, 1, -3, 5]\n",
      "printing r value  [-2.0, -1.0, 3.0, -5.0]\n",
      "S[row] before : [2, -4, 3, 1]\n",
      "zip(S[row],r) <zip object at 0x000002468806A688>\n",
      "S[row] here : [0.0, -5.0, 6.0, -4.0]\n",
      "printing row in inner for  2\n",
      "printing S[row][col]  4\n",
      "printing S[col][col]  2\n",
      "check_value 2.0\n",
      "<class 'list'>\n",
      "S[col] here  [2, 1, -3, 5]\n",
      "printing r value  [-4.0, -2.0, 6.0, -10.0]\n",
      "S[row] before : [4, -7, 1, -1]\n",
      "zip(S[row],r) <zip object at 0x000002468806A208>\n",
      "S[row] here : [0.0, -9.0, 7.0, -11.0]\n",
      "printing col in outer for  1\n",
      "printing row in inner for  2\n",
      "printing S[row][col]  -9.0\n",
      "printing S[col][col]  -5.0\n",
      "check_value 1.8\n",
      "<class 'list'>\n",
      "S[col] here  [0.0, -5.0, 6.0, -4.0]\n",
      "printing r value  [-0.0, 9.0, -10.8, 7.2]\n",
      "S[row] before : [0.0, -9.0, 7.0, -11.0]\n",
      "zip(S[row],r) <zip object at 0x0000024688025D88>\n",
      "S[row] here : [0.0, 0.0, -3.8, -3.8]\n",
      "printing col in outer for  2\n",
      "printing col in outer for  3\n",
      "*******\n",
      "[2, 1, -3, 5]\n",
      "*******\n",
      "[0.0, -5.0, 6.0, -4.0]\n",
      "*******\n",
      "[0.0, 0.0, -3.8, -3.8]\n",
      "\n",
      " Result :\n",
      "[3, 2, 1]\n"
     ]
    }
   ],
   "source": [
    "# call the function and pass a list of lists :\n",
    "\n",
    "print(\"We want upper echelon form: \")\n",
    "\n",
    "print(\"a b c =d\")\n",
    "print(\"0 e f =g\")\n",
    "print(\"0 0 h = i\")\n",
    "\n",
    "\n",
    "## 2x +1 y -3z= 5\n",
    "##2x -4y +3z =1\n",
    "# 4x-7y +1z =-1\n",
    "\n",
    "A_mat = [[2,1,-3,5],\n",
    "        [2,-4,3,1],\n",
    "        [4,-7,1,-1]  ]\n",
    "print(\"printing the source matrix \")\n",
    "print(A_mat)\n",
    "Ans =  gauss_elim(A_mat)\n",
    "\n",
    "\n",
    "\n",
    "print(\"\\n Result :\")\n",
    "\n",
    "print(Ans)"
   ]
  },
  {
   "cell_type": "markdown",
   "metadata": {},
   "source": [
    "## another method of simplied gaussian elimination \n",
    "\n",
    "# https://www.youtube.com/watch?v=ZDxONtacA_4&t=449s\n",
    "# 25:04 "
   ]
  },
  {
   "cell_type": "code",
   "execution_count": 65,
   "metadata": {},
   "outputs": [],
   "source": [
    "## 2x +1 y -3z= 5\n",
    "##2x -4y +3z =1\n",
    "# 4x-7y +1z =-1\n",
    "\n",
    "\n",
    "A_mat1 = [[2,1,-3],\n",
    "        [2,-4,3],\n",
    "        [4,-7,1] ]"
   ]
  },
  {
   "cell_type": "code",
   "execution_count": 66,
   "metadata": {},
   "outputs": [
    {
     "data": {
      "text/plain": [
       "list"
      ]
     },
     "execution_count": 66,
     "metadata": {},
     "output_type": "execute_result"
    }
   ],
   "source": [
    "type(A_mat1)"
   ]
  },
  {
   "cell_type": "code",
   "execution_count": 67,
   "metadata": {},
   "outputs": [],
   "source": [
    "import numpy as np \n",
    "from numpy  import array , zeros \n",
    "\n",
    "A_mat_array = np.array(A_mat1,float)"
   ]
  },
  {
   "cell_type": "code",
   "execution_count": 68,
   "metadata": {},
   "outputs": [
    {
     "name": "stdout",
     "output_type": "stream",
     "text": [
      "[[ 2.  1. -3.]\n",
      " [ 2. -4.  3.]\n",
      " [ 4. -7.  1.]]\n"
     ]
    }
   ],
   "source": [
    "print(A_mat_array)"
   ]
  },
  {
   "cell_type": "code",
   "execution_count": 69,
   "metadata": {},
   "outputs": [
    {
     "name": "stdout",
     "output_type": "stream",
     "text": [
      "<class 'numpy.ndarray'>\n"
     ]
    }
   ],
   "source": [
    "print(type(A_mat_array))"
   ]
  },
  {
   "cell_type": "code",
   "execution_count": 70,
   "metadata": {},
   "outputs": [],
   "source": [
    "b= array([5,1,-1],float)"
   ]
  },
  {
   "cell_type": "code",
   "execution_count": 71,
   "metadata": {},
   "outputs": [
    {
     "data": {
      "text/plain": [
       "array([ 5.,  1., -1.])"
      ]
     },
     "execution_count": 71,
     "metadata": {},
     "output_type": "execute_result"
    }
   ],
   "source": [
    "b"
   ]
  },
  {
   "cell_type": "code",
   "execution_count": 72,
   "metadata": {},
   "outputs": [],
   "source": [
    "n=len(b)"
   ]
  },
  {
   "cell_type": "code",
   "execution_count": 73,
   "metadata": {},
   "outputs": [
    {
     "name": "stdout",
     "output_type": "stream",
     "text": [
      "3\n"
     ]
    }
   ],
   "source": [
    "print(n)"
   ]
  },
  {
   "cell_type": "code",
   "execution_count": 74,
   "metadata": {},
   "outputs": [],
   "source": [
    "x=zeros(n,float)"
   ]
  },
  {
   "cell_type": "code",
   "execution_count": 75,
   "metadata": {},
   "outputs": [
    {
     "data": {
      "text/plain": [
       "array([0., 0., 0.])"
      ]
     },
     "execution_count": 75,
     "metadata": {},
     "output_type": "execute_result"
    }
   ],
   "source": [
    "x"
   ]
  },
  {
   "cell_type": "code",
   "execution_count": 76,
   "metadata": {},
   "outputs": [
    {
     "name": "stdout",
     "output_type": "stream",
     "text": [
      "print earlier value  2.0\n",
      "trandformed  matrix value   0.0\n",
      "print earlier value  -4.0\n",
      "trandformed  matrix value   5.0\n",
      "print earlier value  3.0\n",
      "trandformed  matrix value   -6.0\n",
      "print earlier value  4.0\n",
      "trandformed  matrix value   0.0\n",
      "print earlier value  -7.0\n",
      "trandformed  matrix value   4.5\n",
      "print earlier value  1.0\n",
      "trandformed  matrix value   -3.5\n",
      "print earlier value  4.5\n",
      "trandformed  matrix value   0.0\n",
      "print earlier value  -3.5\n",
      "trandformed  matrix value   -2.1111111111111107\n"
     ]
    }
   ],
   "source": [
    "## elimination \n",
    "for k in range(n-1):\n",
    "    for i in range(k+1, n):\n",
    "        if A_mat_array[i,k]==0:\n",
    "            continue \n",
    "        factor = A_mat_array[k,k]/A_mat_array[i,k]\n",
    "        \n",
    "        for j in range(k,n):\n",
    "            \n",
    "            print(\"print earlier value \",A_mat_array[i,j])\n",
    "            A_mat_array[i,j]= A_mat_array[k,j] - A_mat_array[i,j]*factor\n",
    "            \n",
    "            print(\"trandformed  matrix value  \",A_mat_array[i,j])\n",
    "        b[i] = b[k]- b[i]*factor \n",
    "    "
   ]
  },
  {
   "cell_type": "code",
   "execution_count": 77,
   "metadata": {},
   "outputs": [
    {
     "name": "stdout",
     "output_type": "stream",
     "text": [
      "[[ 2.          1.         -3.        ]\n",
      " [ 0.          5.         -6.        ]\n",
      " [ 0.          0.         -2.11111111]]\n"
     ]
    }
   ],
   "source": [
    "print(A_mat_array)#transformed a matrix "
   ]
  },
  {
   "cell_type": "code",
   "execution_count": 78,
   "metadata": {},
   "outputs": [
    {
     "name": "stdout",
     "output_type": "stream",
     "text": [
      "[ 5.          4.         -2.11111111]\n"
     ]
    }
   ],
   "source": [
    "print(b)"
   ]
  },
  {
   "cell_type": "code",
   "execution_count": 79,
   "metadata": {},
   "outputs": [],
   "source": [
    "# back subsitution "
   ]
  },
  {
   "cell_type": "code",
   "execution_count": 80,
   "metadata": {},
   "outputs": [],
   "source": [
    "x[n-1]=b[n-1]/A_mat_array[n-1,n-1]"
   ]
  },
  {
   "cell_type": "code",
   "execution_count": 81,
   "metadata": {},
   "outputs": [
    {
     "data": {
      "text/plain": [
       "1.0000000000000004"
      ]
     },
     "execution_count": 81,
     "metadata": {},
     "output_type": "execute_result"
    }
   ],
   "source": [
    "x[n-1]"
   ]
  },
  {
   "cell_type": "code",
   "execution_count": 83,
   "metadata": {},
   "outputs": [
    {
     "name": "stdout",
     "output_type": "stream",
     "text": [
      "the solution of the system:\n",
      "[3. 2. 1.]\n"
     ]
    }
   ],
   "source": [
    "#for i in range(n-1,0,-1):## ideally the stop value  should be 0 , \n",
    "## but for this case , the start value should be -1 \n",
    "##because for python , c+ , the start index is 0 , and not 1\n",
    "\n",
    "for i in range(n-2,-1,-1):\n",
    "    sum_ax= 0\n",
    "    for j in range(i+1,n):\n",
    "        sum_ax += A_mat_array[i,j]*x[j]\n",
    "        \n",
    "    x[i]= (b[i]- sum_ax)/A_mat_array[i,i]   \n",
    "print(\"the solution of the system:\")   \n",
    "\n",
    "print(x)\n",
    "    \n",
    "    "
   ]
  },
  {
   "cell_type": "markdown",
   "metadata": {},
   "source": [
    "## determinant "
   ]
  },
  {
   "cell_type": "raw",
   "metadata": {},
   "source": [
    "Notes :\n",
    "    \n",
    "    1. must  be of square  matrix  e.g 2cross 2 , 3 corss 3 \n",
    "    \n",
    "    2 determinant =0 , if columns are linearly dependent \n",
    "    \n"
   ]
  },
  {
   "cell_type": "code",
   "execution_count": 84,
   "metadata": {},
   "outputs": [],
   "source": [
    "import numpy as np \n",
    "import numpy.linalg as la "
   ]
  },
  {
   "cell_type": "code",
   "execution_count": 87,
   "metadata": {},
   "outputs": [],
   "source": [
    "## generate a 2 corss 2 matric and cal detreminant \n",
    "A = np.matrix([[1,2] , [3,4]])"
   ]
  },
  {
   "cell_type": "code",
   "execution_count": 88,
   "metadata": {},
   "outputs": [
    {
     "name": "stdout",
     "output_type": "stream",
     "text": [
      "-2.0\n"
     ]
    }
   ],
   "source": [
    "print(round(la.det(A)))"
   ]
  },
  {
   "cell_type": "code",
   "execution_count": 89,
   "metadata": {},
   "outputs": [],
   "source": [
    "## generate a  3 cross 3 matrix ,a d cal determinant \n",
    "\n",
    "A_1 = np.matrix([[3,2,6],[4,2,6],[4,4,1]])"
   ]
  },
  {
   "cell_type": "code",
   "execution_count": 90,
   "metadata": {},
   "outputs": [
    {
     "name": "stdout",
     "output_type": "stream",
     "text": [
      "22.0\n"
     ]
    }
   ],
   "source": [
    "print(round(la.det(A_1)))"
   ]
  },
  {
   "cell_type": "code",
   "execution_count": null,
   "metadata": {},
   "outputs": [],
   "source": []
  },
  {
   "cell_type": "code",
   "execution_count": null,
   "metadata": {},
   "outputs": [],
   "source": []
  },
  {
   "cell_type": "code",
   "execution_count": null,
   "metadata": {},
   "outputs": [],
   "source": []
  },
  {
   "cell_type": "code",
   "execution_count": null,
   "metadata": {},
   "outputs": [],
   "source": []
  }
 ],
 "metadata": {
  "kernelspec": {
   "display_name": "Python 3",
   "language": "python",
   "name": "python3"
  },
  "language_info": {
   "codemirror_mode": {
    "name": "ipython",
    "version": 3
   },
   "file_extension": ".py",
   "mimetype": "text/x-python",
   "name": "python",
   "nbconvert_exporter": "python",
   "pygments_lexer": "ipython3",
   "version": "3.7.6"
  }
 },
 "nbformat": 4,
 "nbformat_minor": 4
}
